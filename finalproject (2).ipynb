{
 "cells": [
  {
   "cell_type": "code",
   "execution_count": 115,
   "id": "418730e8-7bb2-4313-930d-f42d90c97bc4",
   "metadata": {},
   "outputs": [
    {
     "name": "stdout",
     "output_type": "stream",
     "text": [
      "Requirement already satisfied: geodatasets in /srv/conda/envs/notebook/lib/python3.12/site-packages (2024.8.0)\n",
      "Requirement already satisfied: pooch in /srv/conda/envs/notebook/lib/python3.12/site-packages (from geodatasets) (1.8.2)\n",
      "Requirement already satisfied: platformdirs>=2.5.0 in /srv/conda/envs/notebook/lib/python3.12/site-packages (from pooch->geodatasets) (4.3.8)\n",
      "Requirement already satisfied: packaging>=20.0 in /srv/conda/envs/notebook/lib/python3.12/site-packages (from pooch->geodatasets) (25.0)\n",
      "Requirement already satisfied: requests>=2.19.0 in /srv/conda/envs/notebook/lib/python3.12/site-packages (from pooch->geodatasets) (2.32.3)\n",
      "Requirement already satisfied: charset_normalizer<4,>=2 in /srv/conda/envs/notebook/lib/python3.12/site-packages (from requests>=2.19.0->pooch->geodatasets) (3.4.2)\n",
      "Requirement already satisfied: idna<4,>=2.5 in /srv/conda/envs/notebook/lib/python3.12/site-packages (from requests>=2.19.0->pooch->geodatasets) (3.10)\n",
      "Requirement already satisfied: urllib3<3,>=1.21.1 in /srv/conda/envs/notebook/lib/python3.12/site-packages (from requests>=2.19.0->pooch->geodatasets) (1.26.19)\n",
      "Requirement already satisfied: certifi>=2017.4.17 in /srv/conda/envs/notebook/lib/python3.12/site-packages (from requests>=2.19.0->pooch->geodatasets) (2025.4.26)\n",
      "Collecting pycountry\n",
      "  Downloading pycountry-24.6.1-py3-none-any.whl.metadata (12 kB)\n",
      "Downloading pycountry-24.6.1-py3-none-any.whl (6.3 MB)\n",
      "\u001b[2K   \u001b[90m━━━━━━━━━━━━━━━━━━━━━━━━━━━━━━━━━━━━━━━━\u001b[0m \u001b[32m6.3/6.3 MB\u001b[0m \u001b[31m74.1 MB/s\u001b[0m eta \u001b[36m0:00:00\u001b[0m\n",
      "\u001b[?25hInstalling collected packages: pycountry\n",
      "Successfully installed pycountry-24.6.1\n"
     ]
    }
   ],
   "source": [
    "!pip install geodatasets\n",
    "!pip install pycountry"
   ]
  },
  {
   "cell_type": "code",
   "execution_count": 116,
   "id": "ede4b0fe-36e1-43bc-afe5-b30c8c3b196f",
   "metadata": {},
   "outputs": [],
   "source": [
    "import pandas as pd\n",
    "import numpy as np\n",
    "import matplotlib.pyplot as plt\n",
    "import xarray as xr\n",
    "import geopandas as gpd\n",
    "import geodatasets\n",
    "plt.rcParams['figure.figsize'] = (10, 6)\n",
    "plt.rcParams['axes.titlesize'] = 14\n",
    "plt.rcParams['axes.labelsize'] = 12\n",
    "%matplotlib inline\n"
   ]
  },
  {
   "cell_type": "code",
   "execution_count": 117,
   "id": "1b38efa1-e05e-4954-b502-4f0e4c2fc535",
   "metadata": {},
   "outputs": [],
   "source": [
    "pledges_df = pd.read_csv(\"https://github.com/siddharthgundala/Final-Project/raw/refs/heads/main/Pledges.csv\",encoding=\"ISO-8859-1\", sep=';')\n",
    "funds_df = pd.read_csv(\"https://github.com/siddharthgundala/Final-Project/raw/refs/heads/main/Fund%20Status.csv\",encoding=\"ISO-8859-1\", sep=';')\n",
    "projects_df = pd.read_csv(\"https://github.com/siddharthgundala/Final-Project/raw/refs/heads/main/Projects.csv\",encoding=\"ISO-8859-1\", sep=';')\n",
    "co2_df = pd.read_csv(\"https://github.com/siddharthgundala/Final-Project/raw/refs/heads/main/annual-co2-emissions-per-country.csv\")\n",
    "methane_df = pd.read_csv(\"https://github.com/siddharthgundala/Final-Project/raw/refs/heads/main/methane-emissions.csv\")\n",
    "cfvi_df= pd.read_csv(\"https://github.com/siddharthgundala/Final-Project/raw/refs/heads/main/CFVI.csv\")"
   ]
  },
  {
   "cell_type": "code",
   "execution_count": 118,
   "id": "20139ab7-18d9-46d7-a126-f0f82e077ae5",
   "metadata": {},
   "outputs": [
    {
     "name": "stdout",
     "output_type": "stream",
     "text": [
      "Pledges: (1257, 13)\n",
      "Fund Status: (31, 8)\n",
      "Projects: (3800, 25)\n",
      "CO2: (29137, 4)\n",
      "Methane: (37410, 4)\n",
      "CFVI: (188, 3)\n"
     ]
    }
   ],
   "source": [
    "print(\"Pledges:\", pledges_df.shape)\n",
    "print(\"Fund Status:\", funds_df.shape)\n",
    "print(\"Projects:\", projects_df.shape)\n",
    "print(\"CO2:\", co2_df.shape)\n",
    "print(\"Methane:\", methane_df.shape)\n",
    "print(\"CFVI:\", cfvi_df.shape)"
   ]
  },
  {
   "cell_type": "code",
   "execution_count": 119,
   "id": "47fe3bf1-ec7a-42ef-a316-45a9d9e51d8b",
   "metadata": {},
   "outputs": [
    {
     "name": "stdout",
     "output_type": "stream",
     "text": [
      "Index(['Entity', 'Code', 'Year', 'Annual CO₂ emissions'], dtype='object')\n",
      "Index(['Entity', 'Code', 'Year',\n",
      "       'Annual methane emissions in CO₂ equivalents'],\n",
      "      dtype='object')\n",
      "Index(['Rank', 'Country', 'Index Score'], dtype='object')\n"
     ]
    }
   ],
   "source": [
    "print(co2_df.columns)\n",
    "print(methane_df.columns)\n",
    "print(cfvi_df.columns)"
   ]
  },
  {
   "cell_type": "code",
   "execution_count": 120,
   "id": "45851b71-0258-4317-9b99-e62938d15c54",
   "metadata": {},
   "outputs": [
    {
     "name": "stdout",
     "output_type": "stream",
     "text": [
      "               Country  Total_CO2_emissions\n",
      "0          Afghanistan         2.368414e+08\n",
      "1               Africa         5.259617e+10\n",
      "2         Africa (GCP)         5.259576e+10\n",
      "3              Albania         3.041735e+08\n",
      "4              Algeria         5.263690e+09\n",
      "..                 ...                  ...\n",
      "242  Wallis and Futuna         8.337840e+05\n",
      "243              World         1.812356e+12\n",
      "244              Yemen         6.958331e+08\n",
      "245             Zambia         2.739307e+08\n",
      "246           Zimbabwe         8.150887e+08\n",
      "\n",
      "[247 rows x 2 columns]\n"
     ]
    }
   ],
   "source": [
    "co2_total = (\n",
    "    co2_df.groupby('Entity')['Annual CO₂ emissions']\n",
    "          .sum(min_count=1)\n",
    "          .reset_index()\n",
    "          .rename(columns={\n",
    "              'Entity': 'Country',\n",
    "              'Annual CO₂ emissions': 'Total_CO2_emissions'\n",
    "          })\n",
    ")\n",
    "print(co2_total)"
   ]
  },
  {
   "cell_type": "code",
   "execution_count": 121,
   "id": "dbe4af3f-e956-4c85-ab2d-453b258d4fe7",
   "metadata": {},
   "outputs": [
    {
     "name": "stdout",
     "output_type": "stream",
     "text": [
      "         Country  Total_Methane_emissions\n",
      "0    Afghanistan             1.404239e+09\n",
      "1         Africa             8.047920e+10\n",
      "2        Albania             3.365854e+08\n",
      "3        Algeria             4.756343e+09\n",
      "4        Andorra             7.747589e+06\n",
      "..           ...                      ...\n",
      "210      Vietnam             6.525608e+09\n",
      "211        World             7.514771e+11\n",
      "212        Yemen             9.156567e+08\n",
      "213       Zambia             1.018995e+09\n",
      "214     Zimbabwe             8.848732e+08\n",
      "\n",
      "[215 rows x 2 columns]\n"
     ]
    }
   ],
   "source": [
    "methane_total = (\n",
    "    methane_df.groupby('Entity')['Annual methane emissions in CO₂ equivalents']\n",
    "              .sum(min_count=1)\n",
    "              .reset_index()\n",
    "              .rename(columns={\n",
    "                  'Entity': 'Country',\n",
    "                  'Annual methane emissions in CO₂ equivalents': 'Total_Methane_emissions'\n",
    "              })\n",
    ")\n",
    "print(methane_total)"
   ]
  },
  {
   "cell_type": "code",
   "execution_count": 122,
   "id": "8a5a2cc8-b899-4de1-adfb-b767386092f5",
   "metadata": {},
   "outputs": [],
   "source": [
    "emissions_df = pd.merge(co2_total, methane_total, on='Country', how='inner')\n",
    "\n",
    "emissions_df.fillna(0, inplace=True)"
   ]
  },
  {
   "cell_type": "code",
   "execution_count": 123,
   "id": "1be9aaab-6da4-49f2-8493-9c309b839ac1",
   "metadata": {
    "scrolled": true
   },
   "outputs": [
    {
     "data": {
      "text/html": [
       "<div>\n",
       "<style scoped>\n",
       "    .dataframe tbody tr th:only-of-type {\n",
       "        vertical-align: middle;\n",
       "    }\n",
       "\n",
       "    .dataframe tbody tr th {\n",
       "        vertical-align: top;\n",
       "    }\n",
       "\n",
       "    .dataframe thead th {\n",
       "        text-align: right;\n",
       "    }\n",
       "</style>\n",
       "<table border=\"1\" class=\"dataframe\">\n",
       "  <thead>\n",
       "    <tr style=\"text-align: right;\">\n",
       "      <th></th>\n",
       "      <th>Country</th>\n",
       "      <th>Total_CO2_emissions</th>\n",
       "      <th>Total_Methane_emissions</th>\n",
       "      <th>Total_GHG_emissions</th>\n",
       "    </tr>\n",
       "  </thead>\n",
       "  <tbody>\n",
       "    <tr>\n",
       "      <th>0</th>\n",
       "      <td>Afghanistan</td>\n",
       "      <td>2.368414e+08</td>\n",
       "      <td>1.404239e+09</td>\n",
       "      <td>1.641080e+09</td>\n",
       "    </tr>\n",
       "    <tr>\n",
       "      <th>1</th>\n",
       "      <td>Africa</td>\n",
       "      <td>5.259617e+10</td>\n",
       "      <td>8.047920e+10</td>\n",
       "      <td>1.330754e+11</td>\n",
       "    </tr>\n",
       "    <tr>\n",
       "      <th>2</th>\n",
       "      <td>Albania</td>\n",
       "      <td>3.041735e+08</td>\n",
       "      <td>3.365854e+08</td>\n",
       "      <td>6.407589e+08</td>\n",
       "    </tr>\n",
       "    <tr>\n",
       "      <th>3</th>\n",
       "      <td>Algeria</td>\n",
       "      <td>5.263690e+09</td>\n",
       "      <td>4.756343e+09</td>\n",
       "      <td>1.002003e+10</td>\n",
       "    </tr>\n",
       "    <tr>\n",
       "      <th>4</th>\n",
       "      <td>Andorra</td>\n",
       "      <td>1.623590e+07</td>\n",
       "      <td>7.747589e+06</td>\n",
       "      <td>2.398349e+07</td>\n",
       "    </tr>\n",
       "  </tbody>\n",
       "</table>\n",
       "</div>"
      ],
      "text/plain": [
       "       Country  Total_CO2_emissions  Total_Methane_emissions  \\\n",
       "0  Afghanistan         2.368414e+08             1.404239e+09   \n",
       "1       Africa         5.259617e+10             8.047920e+10   \n",
       "2      Albania         3.041735e+08             3.365854e+08   \n",
       "3      Algeria         5.263690e+09             4.756343e+09   \n",
       "4      Andorra         1.623590e+07             7.747589e+06   \n",
       "\n",
       "   Total_GHG_emissions  \n",
       "0         1.641080e+09  \n",
       "1         1.330754e+11  \n",
       "2         6.407589e+08  \n",
       "3         1.002003e+10  \n",
       "4         2.398349e+07  "
      ]
     },
     "execution_count": 123,
     "metadata": {},
     "output_type": "execute_result"
    }
   ],
   "source": [
    "emissions_df['Total_GHG_emissions'] = (\n",
    "    emissions_df['Total_CO2_emissions'] + emissions_df['Total_Methane_emissions']\n",
    ")\n",
    "\n",
    "emissions_df.head()"
   ]
  },
  {
   "cell_type": "code",
   "execution_count": 124,
   "id": "9038c091-e497-4846-8328-f324d4b112e0",
   "metadata": {},
   "outputs": [
    {
     "name": "stdout",
     "output_type": "stream",
     "text": [
      "Missing from emissions_df: ['Brunei Darussalam', 'Cabo Verde', 'Congo DR', 'Czech Republic', 'Côte d’Ivoire', 'Korea Republic of', 'Lao PDR', 'Marshall Islands', 'Micronesia', 'Moldova Republic of', 'Palestine', 'Russian Federation', 'Timor-Leste', 'Türkiye', 'United States of America', 'Viet Nam']\n"
     ]
    }
   ],
   "source": [
    "missing_countries = set(cfvi_df['Country']) - set(emissions_df['Country'])\n",
    "print(\"Missing from emissions_df:\", sorted(missing_countries))"
   ]
  },
  {
   "cell_type": "code",
   "execution_count": 133,
   "id": "a03a960d-b584-4cd6-9ef3-4bc845652af3",
   "metadata": {},
   "outputs": [],
   "source": [
    "#standardize country function\n",
    "import pycountry\n",
    "from difflib import get_close_matches\n",
    "\n",
    "def standardize_country_name(name):\n",
    "    try:\n",
    "        \n",
    "        return pycountry.countries.lookup(name).name\n",
    "    except:\n",
    "      \n",
    "        matches = get_close_matches(name, [c.name for c in pycountry.countries], n=1, cutoff=0.8)\n",
    "        return matches[0] if matches else name"
   ]
  },
  {
   "cell_type": "code",
   "execution_count": 132,
   "id": "5967400b-6288-4a9e-b809-7e0454da3d5f",
   "metadata": {},
   "outputs": [
    {
     "name": "stdout",
     "output_type": "stream",
     "text": [
      "Index(['Country', 'Total_CO2_emissions', 'Total_Methane_emissions',\n",
      "       'Total_GHG_emissions', 'Country_standardized'],\n",
      "      dtype='object')\n",
      "Index(['Rank', 'Country', 'Index Score', 'Country_standardized'], dtype='object')\n",
      "✅ Matched countries: 179\n",
      "❌ Missing from emissions: ['Brunei Darussalam', 'Congo DR', 'Lao PDR', 'Marshall Islands', 'Micronesia', 'Palestine', 'Russian Federation', 'Timor-Leste', 'Türkiye']\n",
      "❌ Missing from CFVI: ['Africa', 'Andorra', 'Asia', 'Asia (excl. China and India)', 'Brunei', 'Cook Islands', 'Cuba', 'Democratic Republic of Congo', 'East Timor', 'Europe', 'Europe (excl. EU-27)', 'Europe (excl. EU-28)', 'European Union (27)', 'European Union (28)', 'High-income countries', 'Hong Kong', \"Korea, Democratic People's Republic of\", \"Lao People's Democratic Republic\", 'Liechtenstein', 'Low-income countries', 'Lower-middle-income countries', 'Macao', 'Micronesia (country)', 'Niue', 'North America', 'North America (excl. USA)', 'Oceania', 'Russia', 'Taiwan, Province of China', 'Turkey', 'Turks and Caicos Islands', 'Upper-middle-income countries', 'World']\n"
     ]
    }
   ],
   "source": [
    "#Standardize country names\n",
    "\n",
    "emissions_df['Country_standardized'] = emissions_df['Country'].apply(standardize_country_name)\n",
    "cfvi_df['Country_standardized'] = cfvi_df['Country'].apply(standardize_country_name)\n",
    "\n",
    "print(emissions_df.columns)\n",
    "print(cfvi_df.columns)\n",
    "\n",
    "emissions_countries = set(emissions_df['Country_standardized'])\n",
    "cfvi_countries = set(cfvi_df['Country_standardized'])\n",
    "\n",
    "matched = emissions_countries & cfvi_countries\n",
    "unmatched_in_emissions = cfvi_countries - emissions_countries\n",
    "unmatched_in_cfvi = emissions_countries - cfvi_countries\n",
    "\n",
    "print(f\"✅ Matched countries: {len(matched)}\")\n",
    "print(f\"❌ Missing from emissions: {sorted(unmatched_in_emissions)}\")\n",
    "print(f\"❌ Missing from CFVI: {sorted(unmatched_in_cfvi)}\")"
   ]
  },
  {
   "cell_type": "code",
   "execution_count": 128,
   "id": "9c15c074-8718-4664-8ca8-c823a153c221",
   "metadata": {},
   "outputs": [
    {
     "name": "stdout",
     "output_type": "stream",
     "text": [
      "CFVI: (188, 4)\n",
      "Filtered: (172, 5)\n"
     ]
    }
   ],
   "source": [
    "#filter emissions by CFVI index countries\n",
    "\n",
    "filtered_emissions_df = emissions_df[emissions_df['Country'].isin(cfvi_df['Country'])]\n",
    "\n",
    "print(\"CFVI:\", cfvi_df.shape)\n",
    "print(\"Filtered:\", filtered_emissions_df.shape)\n",
    "\n"
   ]
  },
  {
   "cell_type": "code",
   "execution_count": 111,
   "id": "920304eb-bec3-44b4-9220-0962ce870760",
   "metadata": {},
   "outputs": [
    {
     "data": {
      "text/html": [
       "<div>\n",
       "<style scoped>\n",
       "    .dataframe tbody tr th:only-of-type {\n",
       "        vertical-align: middle;\n",
       "    }\n",
       "\n",
       "    .dataframe tbody tr th {\n",
       "        vertical-align: top;\n",
       "    }\n",
       "\n",
       "    .dataframe thead th {\n",
       "        text-align: right;\n",
       "    }\n",
       "</style>\n",
       "<table border=\"1\" class=\"dataframe\">\n",
       "  <thead>\n",
       "    <tr style=\"text-align: right;\">\n",
       "      <th></th>\n",
       "      <th>Country</th>\n",
       "      <th>Total_CO2_emissions</th>\n",
       "      <th>Total_Methane_emissions</th>\n",
       "      <th>Total_GHG_emissions</th>\n",
       "      <th>Index Score</th>\n",
       "    </tr>\n",
       "  </thead>\n",
       "  <tbody>\n",
       "    <tr>\n",
       "      <th>0</th>\n",
       "      <td>Afghanistan</td>\n",
       "      <td>2.368414e+08</td>\n",
       "      <td>1.404239e+09</td>\n",
       "      <td>1.641080e+09</td>\n",
       "      <td>52.2</td>\n",
       "    </tr>\n",
       "    <tr>\n",
       "      <th>1</th>\n",
       "      <td>Albania</td>\n",
       "      <td>3.041735e+08</td>\n",
       "      <td>3.365854e+08</td>\n",
       "      <td>6.407589e+08</td>\n",
       "      <td>47.2</td>\n",
       "    </tr>\n",
       "    <tr>\n",
       "      <th>2</th>\n",
       "      <td>Algeria</td>\n",
       "      <td>5.263690e+09</td>\n",
       "      <td>4.756343e+09</td>\n",
       "      <td>1.002003e+10</td>\n",
       "      <td>39.6</td>\n",
       "    </tr>\n",
       "    <tr>\n",
       "      <th>3</th>\n",
       "      <td>Angola</td>\n",
       "      <td>7.153404e+08</td>\n",
       "      <td>2.795125e+09</td>\n",
       "      <td>3.510466e+09</td>\n",
       "      <td>87.7</td>\n",
       "    </tr>\n",
       "    <tr>\n",
       "      <th>4</th>\n",
       "      <td>Antigua and Barbuda</td>\n",
       "      <td>2.626119e+07</td>\n",
       "      <td>6.919378e+06</td>\n",
       "      <td>3.318057e+07</td>\n",
       "      <td>51.3</td>\n",
       "    </tr>\n",
       "  </tbody>\n",
       "</table>\n",
       "</div>"
      ],
      "text/plain": [
       "               Country  Total_CO2_emissions  Total_Methane_emissions  \\\n",
       "0          Afghanistan         2.368414e+08             1.404239e+09   \n",
       "1              Albania         3.041735e+08             3.365854e+08   \n",
       "2              Algeria         5.263690e+09             4.756343e+09   \n",
       "3               Angola         7.153404e+08             2.795125e+09   \n",
       "4  Antigua and Barbuda         2.626119e+07             6.919378e+06   \n",
       "\n",
       "   Total_GHG_emissions  Index Score  \n",
       "0         1.641080e+09         52.2  \n",
       "1         6.407589e+08         47.2  \n",
       "2         1.002003e+10         39.6  \n",
       "3         3.510466e+09         87.7  \n",
       "4         3.318057e+07         51.3  "
      ]
     },
     "execution_count": 111,
     "metadata": {},
     "output_type": "execute_result"
    }
   ],
   "source": [
    "#merge CFVI and emissions\n",
    "\n",
    "emissions_and_cfvi = pd.merge(\n",
    "    filtered_emissions_df,\n",
    "    cfvi_df[['Country', 'Index Score']],\n",
    "    on='Country',\n",
    "    how='left'\n",
    ")\n",
    "emissions_and_cfvi.head()"
   ]
  },
  {
   "cell_type": "code",
   "execution_count": null,
   "id": "b9358c1a-c3cb-4114-9bcf-9b3aea489c8a",
   "metadata": {},
   "outputs": [],
   "source": [
    "#bar chart of top 20 emitters\n",
    "\n",
    "top20_emitters = emissions_and_cfvi.sort_values(by='Total_GHG_emissions', ascending=False).head(20)\n",
    "\n",
    "\n",
    "plt.figure(figsize=(12, 6))\n",
    "plt.barh(top_emitters['Country'], top_emitters['Total_GHG_emissions'], color='darkred')\n",
    "plt.xlabel(\"Total GHG Emissions (tons CO₂e)\")\n",
    "plt.title(\"Top 20 Greenhouse Gas Emitting Countries\")\n",
    "plt.gca().invert_yaxis()\n",
    "plt.tight_layout()\n",
    "plt.show()\n",
    "\n"
   ]
  },
  {
   "cell_type": "code",
   "execution_count": null,
   "id": "12a5455a-19ad-49fc-9ace-46e0defbc4d0",
   "metadata": {},
   "outputs": [],
   "source": []
  },
  {
   "cell_type": "code",
   "execution_count": 83,
   "id": "74e909fc-70bb-404a-ac68-fa3b5904c494",
   "metadata": {},
   "outputs": [
    {
     "name": "stdout",
     "output_type": "stream",
     "text": [
      "Index(['name', 'geometry'], dtype='object')\n"
     ]
    }
   ],
   "source": [
    "world = gpd.read_file('https://raw.githubusercontent.com/holtzy/The-Python-Graph-Gallery/master/static/data/all_world.geojson')\n",
    "\n",
    "print(world.columns)"
   ]
  },
  {
   "cell_type": "code",
   "execution_count": 87,
   "id": "375b737b-2071-4e5f-b806-3158927731b8",
   "metadata": {},
   "outputs": [
    {
     "ename": "AttributeError",
     "evalue": "'GeoDataFrame' object has no attribute 'columnns'",
     "output_type": "error",
     "traceback": [
      "\u001b[0;31m---------------------------------------------------------------------------\u001b[0m",
      "\u001b[0;31mAttributeError\u001b[0m                            Traceback (most recent call last)",
      "\u001b[0;32m/tmp/ipykernel_222/4202274233.py\u001b[0m in \u001b[0;36m?\u001b[0;34m()\u001b[0m\n\u001b[1;32m      1\u001b[0m \u001b[0mmerged\u001b[0m \u001b[0;34m=\u001b[0m \u001b[0mworld\u001b[0m\u001b[0;34m.\u001b[0m\u001b[0mmerge\u001b[0m\u001b[0;34m(\u001b[0m\u001b[0memissions_df\u001b[0m\u001b[0;34m,\u001b[0m \u001b[0mleft_on\u001b[0m\u001b[0;34m=\u001b[0m\u001b[0;34m\"name\"\u001b[0m\u001b[0;34m,\u001b[0m \u001b[0mright_on\u001b[0m\u001b[0;34m=\u001b[0m\u001b[0;34m\"Country\"\u001b[0m\u001b[0;34m,\u001b[0m \u001b[0mhow\u001b[0m\u001b[0;34m=\u001b[0m\u001b[0;34m\"left\"\u001b[0m\u001b[0;34m)\u001b[0m\u001b[0;34m\u001b[0m\u001b[0;34m\u001b[0m\u001b[0m\n\u001b[0;32m----> 2\u001b[0;31m \u001b[0mprint\u001b[0m\u001b[0;34m(\u001b[0m\u001b[0mmerged\u001b[0m\u001b[0;34m.\u001b[0m\u001b[0mcolumnns\u001b[0m\u001b[0;34m)\u001b[0m\u001b[0;34m\u001b[0m\u001b[0;34m\u001b[0m\u001b[0m\n\u001b[0m\u001b[1;32m      3\u001b[0m \u001b[0mmissing\u001b[0m \u001b[0;34m=\u001b[0m \u001b[0mset\u001b[0m\u001b[0;34m(\u001b[0m\u001b[0memissions_df\u001b[0m\u001b[0;34m[\u001b[0m\u001b[0;34m\"Country\"\u001b[0m\u001b[0;34m]\u001b[0m\u001b[0;34m)\u001b[0m \u001b[0;34m-\u001b[0m \u001b[0mset\u001b[0m\u001b[0;34m(\u001b[0m\u001b[0mworld\u001b[0m\u001b[0;34m[\u001b[0m\u001b[0;34m\"name\"\u001b[0m\u001b[0;34m]\u001b[0m\u001b[0;34m)\u001b[0m\u001b[0;34m\u001b[0m\u001b[0;34m\u001b[0m\u001b[0m\n\u001b[1;32m      4\u001b[0m \u001b[0mprint\u001b[0m\u001b[0;34m(\u001b[0m\u001b[0;34m\"Unmatched countries:\"\u001b[0m\u001b[0;34m,\u001b[0m \u001b[0mmissing\u001b[0m\u001b[0;34m)\u001b[0m\u001b[0;34m\u001b[0m\u001b[0;34m\u001b[0m\u001b[0m\n",
      "\u001b[0;32m/srv/conda/envs/notebook/lib/python3.12/site-packages/pandas/core/generic.py\u001b[0m in \u001b[0;36m?\u001b[0;34m(self, name)\u001b[0m\n\u001b[1;32m   6295\u001b[0m             \u001b[0;32mand\u001b[0m \u001b[0mname\u001b[0m \u001b[0;32mnot\u001b[0m \u001b[0;32min\u001b[0m \u001b[0mself\u001b[0m\u001b[0;34m.\u001b[0m\u001b[0m_accessors\u001b[0m\u001b[0;34m\u001b[0m\u001b[0;34m\u001b[0m\u001b[0m\n\u001b[1;32m   6296\u001b[0m             \u001b[0;32mand\u001b[0m \u001b[0mself\u001b[0m\u001b[0;34m.\u001b[0m\u001b[0m_info_axis\u001b[0m\u001b[0;34m.\u001b[0m\u001b[0m_can_hold_identifiers_and_holds_name\u001b[0m\u001b[0;34m(\u001b[0m\u001b[0mname\u001b[0m\u001b[0;34m)\u001b[0m\u001b[0;34m\u001b[0m\u001b[0;34m\u001b[0m\u001b[0m\n\u001b[1;32m   6297\u001b[0m         \u001b[0;34m)\u001b[0m\u001b[0;34m:\u001b[0m\u001b[0;34m\u001b[0m\u001b[0;34m\u001b[0m\u001b[0m\n\u001b[1;32m   6298\u001b[0m             \u001b[0;32mreturn\u001b[0m \u001b[0mself\u001b[0m\u001b[0;34m[\u001b[0m\u001b[0mname\u001b[0m\u001b[0;34m]\u001b[0m\u001b[0;34m\u001b[0m\u001b[0;34m\u001b[0m\u001b[0m\n\u001b[0;32m-> 6299\u001b[0;31m         \u001b[0;32mreturn\u001b[0m \u001b[0mobject\u001b[0m\u001b[0;34m.\u001b[0m\u001b[0m__getattribute__\u001b[0m\u001b[0;34m(\u001b[0m\u001b[0mself\u001b[0m\u001b[0;34m,\u001b[0m \u001b[0mname\u001b[0m\u001b[0;34m)\u001b[0m\u001b[0;34m\u001b[0m\u001b[0;34m\u001b[0m\u001b[0m\n\u001b[0m",
      "\u001b[0;31mAttributeError\u001b[0m: 'GeoDataFrame' object has no attribute 'columnns'"
     ]
    }
   ],
   "source": [
    "merged = world.merge(emissions_df, left_on=\"name\", right_on=\"Country\", how=\"left\")\n",
    "print(merged.columnns)\n"
   ]
  }
 ],
 "metadata": {
  "kernelspec": {
   "display_name": "Python 3 (ipykernel)",
   "language": "python",
   "name": "python3"
  },
  "language_info": {
   "codemirror_mode": {
    "name": "ipython",
    "version": 3
   },
   "file_extension": ".py",
   "mimetype": "text/x-python",
   "name": "python",
   "nbconvert_exporter": "python",
   "pygments_lexer": "ipython3",
   "version": "3.12.10"
  }
 },
 "nbformat": 4,
 "nbformat_minor": 5
}

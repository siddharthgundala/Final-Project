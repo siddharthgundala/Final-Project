{
 "cells": [
  {
   "cell_type": "markdown",
   "id": "a68dcf23-a6d9-475b-9ca8-fe6fa121a919",
   "metadata": {},
   "source": [
    "# Climate Financial Risk Analysis \n",
    "\n",
    "## Question / Hypothesis\n",
    "We aim to investigate whether multilateral climate funds are efficiently targeting the most vulnerable countries and regions. Specifically, we will analyze how financing flows vary geographically and by project types, and examine the alignment of these flows with climate vulnerability.\n",
    "\n",
    "## Research Interests\n",
    "- Climate finance and policy  \n",
    "- Environmental vulnerability metrics  \n",
    "- Global emissions and sustainable development\n",
    "  \n",
    "## Datasets\n",
    "- Climate Funds Update Dashboard\n",
    "- CO2 Emissions per Country (Annual)\n",
    "- Methane Emissions per Country (Annual)\n",
    "- Climate Finance Vulnerability Index\n",
    "\n",
    "## Planned Analysis\n",
    "We plan to perform descriptive statistics and correlation analyses to explore the relationship between climate fund allocations and vulnerability. This will include visualizing the geographic distribution of funds and comparing this with emissions and vulnerability data. Our goal is to understand which countries are contributing most to climate change and which are in most need of support.\n"
   ]
  },
  {
   "cell_type": "code",
   "execution_count": null,
   "id": "fca50306-78c4-4f88-90b2-50dfe0fcd25a",
   "metadata": {},
   "outputs": [],
   "source": [
    "# Import Data\n",
    "\n"
   ]
  }
 ],
 "metadata": {
  "kernelspec": {
   "display_name": "Python 3 (ipykernel)",
   "language": "python",
   "name": "python3"
  },
  "language_info": {
   "codemirror_mode": {
    "name": "ipython",
    "version": 3
   },
   "file_extension": ".py",
   "mimetype": "text/x-python",
   "name": "python",
   "nbconvert_exporter": "python",
   "pygments_lexer": "ipython3",
   "version": "3.12.10"
  }
 },
 "nbformat": 4,
 "nbformat_minor": 5
}
